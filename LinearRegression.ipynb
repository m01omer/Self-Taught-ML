{
 "cells": [
  {
   "cell_type": "code",
   "execution_count": 1,
   "metadata": {},
   "outputs": [],
   "source": [
    "import pandas as pd\n",
    "import matplotlib.pyplot as plt\n",
    "from IPython import display\n",
    "import time\n",
    "import numpy as np"
   ]
  },
  {
   "cell_type": "markdown",
   "metadata": {},
   "source": [
    "# https://www.youtube.com/watch?v=ltXSoduiVwY&list=PLcWfeUsAys2k_xub3mHks85sBHZvg24Jd&index=3"
   ]
  },
  {
   "cell_type": "markdown",
   "metadata": {},
   "source": [
    "## Linear Regression"
   ]
  },
  {
   "cell_type": "code",
   "execution_count": 21,
   "metadata": {},
   "outputs": [],
   "source": [
    "\n",
    "# Load the data\n",
    "file_path = r\"C:\\Users\\Omer\\Downloads\\price-prediction.xlsx\"\n",
    "data = pd.read_excel(file_path)\n",
    "# data\n",
    "# Assuming the data has columns 'x' and 'y'\n",
    "x = data['PLOTS']\n",
    "y = data['PRICE']\n",
    "points = list(zip(x, y))\n",
    "\n",
    "\n",
    "# Normalize the data\n",
    "x = (x - np.mean(x)) / np.std(x)\n",
    "y = (y - np.mean(y)) / np.std(y)\n",
    "points = list(zip(x, y))"
   ]
  },
  {
   "cell_type": "code",
   "execution_count": 3,
   "metadata": {},
   "outputs": [],
   "source": [
    "\n",
    "def plot_data(m, b, data):\n",
    "    x, y = zip(*data)\n",
    "    plt.scatter(x, y)\n",
    "    plt.plot(x, [m * xi + b for xi in x], color='red')\n",
    "    plt.xlabel('x')\n",
    "    plt.ylabel('y')\n",
    "    plt.title('Data with Fitted Line')\n",
    "    plt.show()\n"
   ]
  },
  {
   "cell_type": "code",
   "execution_count": 4,
   "metadata": {},
   "outputs": [],
   "source": [
    "def loss_function(m, b, points):\n",
    "    total_error = 0\n",
    "    for x, y in points:\n",
    "        total_error += (y - (m * x + b)) ** 2\n",
    "    return total_error / len(points)\n"
   ]
  },
  {
   "cell_type": "code",
   "execution_count": 5,
   "metadata": {},
   "outputs": [],
   "source": [
    "def gradient_descent(current_m, current_b, points, lr):\n",
    "    m_gradient = 0\n",
    "    b_gradient = 0\n",
    "    N = len(points)\n",
    "    \n",
    "    for x, y in points:\n",
    "        m_gradient += -(2/N) * x * (y - (current_m * x + current_b))\n",
    "        b_gradient += -(2/N) * (y - (current_m * x + current_b))\n",
    "    \n",
    "    new_m = current_m - (lr * m_gradient)\n",
    "    new_b = current_b - (lr * b_gradient)\n",
    "    \n",
    "    return new_m, new_b\n"
   ]
  },
  {
   "cell_type": "code",
   "execution_count": 23,
   "metadata": {},
   "outputs": [
    {
     "name": "stdout",
     "output_type": "stream",
     "text": [
      "Epoch 9900: m = 0.9931397735594968, b = -4.995854202671723e-16, Loss = 0.013673385315269184\n"
     ]
    },
    {
     "data": {
      "image/png": "[encoded data removed]",
      "text/plain": [
       "<Figure size 640x480 with 1 Axes>"
      ]
     },
     "metadata": {},
     "output_type": "display_data"
    },
    {
     "name": "stdout",
     "output_type": "stream",
     "text": [
      "Final values: m = 0.9931397739993137, b = -4.996357272479756e-16\n"
     ]
    }
   ],
   "source": [
    "m, b = 0, 0\n",
    "lr = 0.001\n",
    "epochs = 10000\n",
    "\n",
    "# Perform gradient descent and plot the prediction line after each iteration\n",
    "for epoch in range(epochs):\n",
    "    m, b = gradient_descent(m, b, points, lr)\n",
    "    if epoch % 100 == 0:  # Plot every 10 epochs for better visualization\n",
    "        display.clear_output(wait=True)\n",
    "        print(f'Epoch {epoch}: m = {m}, b = {b}, Loss = {loss_function(m, b, points)}')\n",
    "        plot_data(m, b, points)\n",
    "        time.sleep(1)\n",
    "\n",
    "# Print final values\n",
    "print(f'Final values: m = {m}, b = {b}')"
   ]
  },
  {
   "cell_type": "code",
   "execution_count": 25,
   "metadata": {},
   "outputs": [],
   "source": [
    "class LinearRegression:\n",
    "\n",
    "    def __init__(self, lr = 0.001, n_iters=1000):\n",
    "        self.lr = lr\n",
    "        self.n_iters = n_iters\n",
    "        self.weights = None\n",
    "        self.bias = None\n",
    "\n",
    "    def fit(self, X, y):\n",
    "        n_samples, n_features = X.shape\n",
    "        self.weights = np.zeros(n_features)\n",
    "        self.bias = 0\n",
    "\n",
    "        for _ in range(self.n_iters):\n",
    "            y_pred = np.dot(X, self.weights) + self.bias\n",
    "\n",
    "            dw = (1/n_samples) * np.dot(X.T, (y_pred-y))\n",
    "            db = (1/n_samples) * np.sum(y_pred-y)\n",
    "\n",
    "            self.weights = self.weights - self.lr * dw\n",
    "            self.bias = self.bias - self.lr * db\n",
    "\n",
    "    def predict(self, X):\n",
    "        y_pred = np.dot(X, self.weights) + self.bias\n",
    "        return y_pred"
   ]
  },
  {
   "cell_type": "code",
   "execution_count": null,
   "metadata": {},
   "outputs": [],
   "source": [
    "data = pd.read_excel(file_path)\n",
    "# data\n",
    "# Assuming the data has columns 'x' and 'y'\n",
    "x = data['PLOTS']\n",
    "y = data['PRICE']\n",
    "points = list(zip(x, y))\n",
    "\n",
    "\n",
    "# Normalize the data\n",
    "x = (x - np.mean(x)) / np.std(x)\n",
    "y = (y - np.mean(y)) / np.std(y)\n",
    "points = list(zip(x, y))"
   ]
  },
  {
   "cell_type": "code",
   "execution_count": 2,
   "metadata": {},
   "outputs": [
    {
     "name": "stdout",
     "output_type": "stream",
     "text": [
      "Intercept: -4.0864416449013, Coefficients: [0.68066694 0.68127673]\n",
      "Predicted Probabilities (Sigmoid): [0.11473913 0.33597622 0.66388734 0.88519874]\n",
      "Log-Odds: [-2.04322126 -0.68127759  0.68066607  2.04260973]\n"
     ]
    }
   ],
   "source": [
    "import numpy as np\n",
    "import joblib  # Use joblib to load the model\n",
    "\n",
    "# Sigmoid Function\n",
    "def sigmoid(linearEq):\n",
    "    return 1 / (1 + np.exp(-linearEq))\n",
    "\n",
    "# Log-Odds Function\n",
    "def log_odds(prob):\n",
    "    return np.log(prob / (1 - prob))\n",
    "\n",
    "# Load the logistic regression model\n",
    "model = joblib.load('logistic_model.pkl')\n",
    "\n",
    "# Example feature matrix X (e.g., two features for simplicity)\n",
    "X = np.array([[1, 2], [2, 3], [3, 4], [4, 5]])\n",
    "\n",
    "# Predict probabilities using the model\n",
    "probabilities = model.predict_proba(X)[:, 1]\n",
    "print(f'Predicted Probabilities (Model): {probabilities}')\n",
    "\n",
    "# Predict probabilities using sigmoid form\n",
    "coefficients = model.coef_[0]\n",
    "intercept = model.intercept_[0]\n",
    "linear_eq = np.dot(X, coefficients) + intercept\n",
    "probabilities_sigmoid = sigmoid(linear_eq)\n",
    "print(f'Predicted Probabilities (Sigmoid): {probabilities_sigmoid}')\n",
    "\n",
    "# Log-odds form\n",
    "log_odds_values = log_odds(probabilities_sigmoid)\n",
    "print(f'Log-Odds: {log_odds_values}')"
   ]
  }
 ],
 "metadata": {
  "kernelspec": {
   "display_name": "Python 3",
   "language": "python",
   "name": "python3"
  },
  "language_info": {
   "codemirror_mode": {
    "name": "ipython",
    "version": 3
   },
   "file_extension": ".py",
   "mimetype": "text/x-python",
   "name": "python",
   "nbconvert_exporter": "python",
   "pygments_lexer": "ipython3",
   "version": "3.12.4"
  }
 },
 "nbformat": 4,
 "nbformat_minor": 2
}
